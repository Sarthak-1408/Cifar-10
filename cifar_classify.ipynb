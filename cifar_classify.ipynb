{
  "nbformat": 4,
  "nbformat_minor": 0,
  "metadata": {
    "colab": {
      "name": "cifar_classify.ipynb",
      "provenance": [],
      "collapsed_sections": []
    },
    "kernelspec": {
      "name": "python3",
      "display_name": "Python 3"
    },
    "accelerator": "GPU"
  },
  "cells": [
    {
      "cell_type": "code",
      "metadata": {
        "id": "_hXAA3grk_Wf"
      },
      "source": [
        "# import the package\r\n",
        "import tensorflow as tf\r\n",
        "from tensorflow.keras.datasets import cifar10 \r\n",
        "import numpy as np "
      ],
      "execution_count": 39,
      "outputs": []
    },
    {
      "cell_type": "code",
      "metadata": {
        "id": "tYQSkbhBlZbX"
      },
      "source": [
        "# split the train and test set\r\n",
        "(X_train , y_train) , (X_test , y_test) = cifar10.load_data()"
      ],
      "execution_count": 40,
      "outputs": []
    },
    {
      "cell_type": "code",
      "metadata": {
        "colab": {
          "base_uri": "https://localhost:8080/"
        },
        "id": "bO_SC00YlipB",
        "outputId": "11621059-44cd-4424-dbc6-1b3a23512af4"
      },
      "source": [
        "X_train.shape "
      ],
      "execution_count": 41,
      "outputs": [
        {
          "output_type": "execute_result",
          "data": {
            "text/plain": [
              "(50000, 32, 32, 3)"
            ]
          },
          "metadata": {
            "tags": []
          },
          "execution_count": 41
        }
      ]
    },
    {
      "cell_type": "code",
      "metadata": {
        "colab": {
          "base_uri": "https://localhost:8080/"
        },
        "id": "2Oy56IC8lk9k",
        "outputId": "915253b1-69cc-4dbd-9248-2c230b99de19"
      },
      "source": [
        "y_train[:5] # it a two dimension array but \r\n",
        "# we want only index of classes value like\r\n",
        "#  6 is frog etc so reshape it"
      ],
      "execution_count": 42,
      "outputs": [
        {
          "output_type": "execute_result",
          "data": {
            "text/plain": [
              "array([[6],\n",
              "       [9],\n",
              "       [9],\n",
              "       [4],\n",
              "       [1]], dtype=uint8)"
            ]
          },
          "metadata": {
            "tags": []
          },
          "execution_count": 42
        }
      ]
    },
    {
      "cell_type": "code",
      "metadata": {
        "id": "zedNWoujlnsk"
      },
      "source": [
        "classes = [\"airplane\", \"automobile\" , \"bird\" , \"cat\" , \"deer\" , \"dog\" , \"frog\" , \"horse\" , \"ship\" , \"truck\"]"
      ],
      "execution_count": 43,
      "outputs": []
    },
    {
      "cell_type": "code",
      "metadata": {
        "id": "TlveefqelwPr"
      },
      "source": [
        "import matplotlib.pyplot as plt \r\n",
        "\r\n",
        "def plot_sample(X , y , index):\r\n",
        "    plt.figure(figsize=(15 , 2))\r\n",
        "    plt.imshow(X[index])\r\n",
        "    plt.xlabel(classes[y[index]])\r\n",
        "\r\n",
        "plot_sample(X_train , y_train , 53)"
      ],
      "execution_count": 44,
      "outputs": []
    },
    {
      "cell_type": "code",
      "metadata": {
        "id": "IBDEl3S8l04R"
      },
      "source": [
        "# Normalize the data\r\n",
        "X_train = X_train / 255\r\n",
        "X_test = X_test / 255"
      ],
      "execution_count": 46,
      "outputs": []
    },
    {
      "cell_type": "code",
      "metadata": {
        "id": "H70IZGFfmFZZ"
      },
      "source": [
        "# Build a model\r\n",
        "from tensorflow.keras.layers import Conv2D , MaxPooling2D , Flatten , Dense , Dropout\r\n",
        "from tensorflow.keras.models import Sequential\r\n",
        "\r\n",
        "model = Sequential([\r\n",
        "    Conv2D(32 , (3,3) , activation=\"relu\" ,input_shape = (32,32,3)),\r\n",
        "    MaxPooling2D(pool_size= (2,2)),\r\n",
        "\r\n",
        "    Conv2D(64 , (3,3) , activation=\"relu\"),\r\n",
        "    MaxPooling2D(pool_size= (2,2)),\r\n",
        "\r\n",
        "    Conv2D(64 , (3,3) , activation=\"relu\"),\r\n",
        "    MaxPooling2D(pool_size= (2,2)),\r\n",
        "\r\n",
        "    Flatten(),\r\n",
        "    Dense(64 , activation=\"relu\"),\r\n",
        "    Dense(10  ,activation=\"softmax\")\r\n",
        "])"
      ],
      "execution_count": 47,
      "outputs": []
    },
    {
      "cell_type": "code",
      "metadata": {
        "colab": {
          "base_uri": "https://localhost:8080/"
        },
        "id": "1KaqIhV5mMeN",
        "outputId": "f6860b74-6415-42fb-e17f-c73db8cdd2c5"
      },
      "source": [
        "model.summary()"
      ],
      "execution_count": 48,
      "outputs": [
        {
          "output_type": "stream",
          "text": [
            "Model: \"sequential_2\"\n",
            "_________________________________________________________________\n",
            "Layer (type)                 Output Shape              Param #   \n",
            "=================================================================\n",
            "conv2d_6 (Conv2D)            (None, 30, 30, 32)        896       \n",
            "_________________________________________________________________\n",
            "max_pooling2d_6 (MaxPooling2 (None, 15, 15, 32)        0         \n",
            "_________________________________________________________________\n",
            "conv2d_7 (Conv2D)            (None, 13, 13, 64)        18496     \n",
            "_________________________________________________________________\n",
            "max_pooling2d_7 (MaxPooling2 (None, 6, 6, 64)          0         \n",
            "_________________________________________________________________\n",
            "conv2d_8 (Conv2D)            (None, 4, 4, 64)          36928     \n",
            "_________________________________________________________________\n",
            "max_pooling2d_8 (MaxPooling2 (None, 2, 2, 64)          0         \n",
            "_________________________________________________________________\n",
            "flatten_2 (Flatten)          (None, 256)               0         \n",
            "_________________________________________________________________\n",
            "dense_4 (Dense)              (None, 64)                16448     \n",
            "_________________________________________________________________\n",
            "dense_5 (Dense)              (None, 10)                650       \n",
            "=================================================================\n",
            "Total params: 73,418\n",
            "Trainable params: 73,418\n",
            "Non-trainable params: 0\n",
            "_________________________________________________________________\n"
          ],
          "name": "stdout"
        }
      ]
    },
    {
      "cell_type": "code",
      "metadata": {
        "id": "dSofB46AmQC4"
      },
      "source": [
        "# compile the model\r\n",
        "model.compile(optimizer=\"adam\" , loss=\"sparse_categorical_crossentropy\" , metrics=[\"accuracy\"])"
      ],
      "execution_count": 49,
      "outputs": []
    },
    {
      "cell_type": "code",
      "metadata": {
        "colab": {
          "base_uri": "https://localhost:8080/"
        },
        "id": "qZZUZ3u5mU68",
        "outputId": "70d55866-d1f8-4544-9f3f-a8d015b88c0e"
      },
      "source": [
        "# train the model\r\n",
        "model.fit(X_train , y_train , epochs=10 , validation_data=(X_test , y_test))"
      ],
      "execution_count": 50,
      "outputs": [
        {
          "output_type": "stream",
          "text": [
            "Epoch 1/10\n",
            "1563/1563 [==============================] - 6s 4ms/step - loss: 1.8095 - accuracy: 0.3305 - val_loss: 1.3272 - val_accuracy: 0.5275\n",
            "Epoch 2/10\n",
            "1563/1563 [==============================] - 5s 3ms/step - loss: 1.2377 - accuracy: 0.5597 - val_loss: 1.1283 - val_accuracy: 0.5997\n",
            "Epoch 3/10\n",
            "1563/1563 [==============================] - 5s 3ms/step - loss: 1.0747 - accuracy: 0.6228 - val_loss: 1.0749 - val_accuracy: 0.6243\n",
            "Epoch 4/10\n",
            "1563/1563 [==============================] - 5s 3ms/step - loss: 0.9620 - accuracy: 0.6643 - val_loss: 0.9905 - val_accuracy: 0.6583\n",
            "Epoch 5/10\n",
            "1563/1563 [==============================] - 5s 3ms/step - loss: 0.8921 - accuracy: 0.6899 - val_loss: 0.9402 - val_accuracy: 0.6754\n",
            "Epoch 6/10\n",
            "1563/1563 [==============================] - 6s 4ms/step - loss: 0.8245 - accuracy: 0.7140 - val_loss: 0.9034 - val_accuracy: 0.6972\n",
            "Epoch 7/10\n",
            "1563/1563 [==============================] - 5s 3ms/step - loss: 0.7659 - accuracy: 0.7346 - val_loss: 0.9522 - val_accuracy: 0.6780\n",
            "Epoch 8/10\n",
            "1563/1563 [==============================] - 5s 3ms/step - loss: 0.7245 - accuracy: 0.7474 - val_loss: 0.8659 - val_accuracy: 0.7078\n",
            "Epoch 9/10\n",
            "1563/1563 [==============================] - 6s 4ms/step - loss: 0.6754 - accuracy: 0.7630 - val_loss: 0.8914 - val_accuracy: 0.7031\n",
            "Epoch 10/10\n",
            "1563/1563 [==============================] - 5s 3ms/step - loss: 0.6451 - accuracy: 0.7756 - val_loss: 0.8766 - val_accuracy: 0.7001\n"
          ],
          "name": "stdout"
        },
        {
          "output_type": "execute_result",
          "data": {
            "text/plain": [
              "<tensorflow.python.keras.callbacks.History at 0x7f1c9769bed0>"
            ]
          },
          "metadata": {
            "tags": []
          },
          "execution_count": 50
        }
      ]
    },
    {
      "cell_type": "code",
      "metadata": {
        "colab": {
          "base_uri": "https://localhost:8080/"
        },
        "id": "8Tb1KCcZmY6X",
        "outputId": "a770409e-1025-4fe1-a8d7-55b725f37000"
      },
      "source": [
        "model.evaluate(X_test , y_test)"
      ],
      "execution_count": 56,
      "outputs": [
        {
          "output_type": "stream",
          "text": [
            "313/313 [==============================] - 1s 2ms/step - loss: 0.8766 - accuracy: 0.7001\n"
          ],
          "name": "stdout"
        },
        {
          "output_type": "execute_result",
          "data": {
            "text/plain": [
              "[0.8766219019889832, 0.7001000046730042]"
            ]
          },
          "metadata": {
            "tags": []
          },
          "execution_count": 56
        }
      ]
    },
    {
      "cell_type": "code",
      "metadata": {
        "colab": {
          "base_uri": "https://localhost:8080/"
        },
        "id": "Ot_6metdnnjG",
        "outputId": "5c21c94b-5e3f-4151-af1e-d388ce8a0320"
      },
      "source": [
        "y_pred = model.predict(X_test)\r\n",
        "y_pred[:4]"
      ],
      "execution_count": 52,
      "outputs": [
        {
          "output_type": "execute_result",
          "data": {
            "text/plain": [
              "array([[2.1483644e-03, 7.7203140e-03, 1.4289965e-04, 6.3389575e-01,\n",
              "        1.5119778e-03, 3.2665667e-01, 7.9587884e-03, 1.3293640e-03,\n",
              "        1.5487095e-02, 3.1488484e-03],\n",
              "       [5.2712921e-02, 1.4766584e-01, 8.4593682e-07, 2.3238830e-05,\n",
              "        4.2195838e-06, 2.2175131e-07, 1.0044594e-07, 1.5454458e-06,\n",
              "        7.4206144e-01, 5.7529692e-02],\n",
              "       [3.7096400e-02, 6.2614895e-02, 2.0734790e-04, 2.1912209e-03,\n",
              "        4.6872173e-04, 1.3378999e-04, 6.0228009e-05, 8.4766471e-05,\n",
              "        7.3628277e-01, 1.6085985e-01],\n",
              "       [9.3692636e-01, 2.4043836e-03, 6.8668071e-03, 2.6576500e-03,\n",
              "        8.4198210e-03, 2.9075793e-05, 7.9400714e-05, 2.6923983e-04,\n",
              "        4.2250246e-02, 9.6993732e-05]], dtype=float32)"
            ]
          },
          "metadata": {
            "tags": []
          },
          "execution_count": 52
        }
      ]
    },
    {
      "cell_type": "code",
      "metadata": {
        "colab": {
          "base_uri": "https://localhost:8080/"
        },
        "id": "qEfIsJgYo0Eo",
        "outputId": "4fae82a3-e9cc-421a-acda-11b9f6e0ec5a"
      },
      "source": [
        "y_classes = [np.argmax(element) for element in y_pred]\r\n",
        "y_classes[:5]"
      ],
      "execution_count": 53,
      "outputs": [
        {
          "output_type": "execute_result",
          "data": {
            "text/plain": [
              "[3, 8, 8, 0, 6]"
            ]
          },
          "metadata": {
            "tags": []
          },
          "execution_count": 53
        }
      ]
    },
    {
      "cell_type": "code",
      "metadata": {
        "colab": {
          "base_uri": "https://localhost:8080/"
        },
        "id": "cmitd5wXpN8i",
        "outputId": "c34aedb3-59bb-4eef-a4cd-155add39f693"
      },
      "source": [
        "y_test = y_test.reshape(-1,)\r\n",
        "y_test[:5]"
      ],
      "execution_count": 54,
      "outputs": [
        {
          "output_type": "execute_result",
          "data": {
            "text/plain": [
              "array([3, 8, 8, 0, 6], dtype=uint8)"
            ]
          },
          "metadata": {
            "tags": []
          },
          "execution_count": 54
        }
      ]
    },
    {
      "cell_type": "code",
      "metadata": {
        "id": "IWDIDVISpRS1"
      },
      "source": [
        "# save the model\r\n",
        "\r\n",
        "model.save(\"my_model.h5\")"
      ],
      "execution_count": 57,
      "outputs": []
    },
    {
      "cell_type": "code",
      "metadata": {
        "id": "1upitDmfpuW0"
      },
      "source": [
        ""
      ],
      "execution_count": 55,
      "outputs": []
    }
  ]
}